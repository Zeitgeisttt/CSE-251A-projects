{
 "cells": [
  {
   "cell_type": "markdown",
   "metadata": {},
   "source": [
    "The order of methods in code is different from in paper. See comment for details.\n",
    "\n",
    "Method 5 requires the following lshashpy3 package. Need to install before use."
   ]
  },
  {
   "cell_type": "code",
   "execution_count": 1,
   "metadata": {},
   "outputs": [],
   "source": [
    "# pip install lshashpy3"
   ]
  },
  {
   "cell_type": "code",
   "execution_count": 2,
   "metadata": {},
   "outputs": [
    {
     "name": "stdout",
     "output_type": "stream",
     "text": [
      "WARNING:tensorflow:From c:\\Users\\Junwei\\AppData\\Local\\Programs\\Python\\Python310\\lib\\site-packages\\keras\\src\\losses.py:2976: The name tf.losses.sparse_softmax_cross_entropy is deprecated. Please use tf.compat.v1.losses.sparse_softmax_cross_entropy instead.\n",
      "\n"
     ]
    }
   ],
   "source": [
    "import numpy as np\n",
    "from sklearn.neighbors import KNeighborsClassifier\n",
    "import tensorflow as tf\n",
    "from sklearn.cluster import KMeans\n",
    "import time\n",
    "from lshashpy3 import LSHash"
   ]
  },
  {
   "cell_type": "code",
   "execution_count": 3,
   "metadata": {},
   "outputs": [],
   "source": [
    "(train_X, train_y), (test_X, test_y) = tf.keras.datasets.mnist.load_data()\n",
    "train_X = train_X.reshape(train_X.shape[0], train_X.shape[1]*train_X.shape[2])\n",
    "test_X = test_X.reshape(test_X.shape[0], test_X.shape[1]*test_X.shape[2])"
   ]
  },
  {
   "cell_type": "code",
   "execution_count": 4,
   "metadata": {},
   "outputs": [],
   "source": [
    "# separate train into 10 labels\n",
    "train_X_buckets = []\n",
    "for i in range(10):\n",
    "    train_X_buckets.append(train_X[train_y == i])"
   ]
  },
  {
   "cell_type": "code",
   "execution_count": 5,
   "metadata": {},
   "outputs": [
    {
     "data": {
      "text/plain": [
       "((60000, 784), (10000, 784))"
      ]
     },
     "execution_count": 5,
     "metadata": {},
     "output_type": "execute_result"
    }
   ],
   "source": [
    "train_X.shape, test_X.shape"
   ]
  },
  {
   "cell_type": "code",
   "execution_count": 6,
   "metadata": {},
   "outputs": [
    {
     "data": {
      "text/html": [
       "<style>#sk-container-id-1 {color: black;}#sk-container-id-1 pre{padding: 0;}#sk-container-id-1 div.sk-toggleable {background-color: white;}#sk-container-id-1 label.sk-toggleable__label {cursor: pointer;display: block;width: 100%;margin-bottom: 0;padding: 0.3em;box-sizing: border-box;text-align: center;}#sk-container-id-1 label.sk-toggleable__label-arrow:before {content: \"▸\";float: left;margin-right: 0.25em;color: #696969;}#sk-container-id-1 label.sk-toggleable__label-arrow:hover:before {color: black;}#sk-container-id-1 div.sk-estimator:hover label.sk-toggleable__label-arrow:before {color: black;}#sk-container-id-1 div.sk-toggleable__content {max-height: 0;max-width: 0;overflow: hidden;text-align: left;background-color: #f0f8ff;}#sk-container-id-1 div.sk-toggleable__content pre {margin: 0.2em;color: black;border-radius: 0.25em;background-color: #f0f8ff;}#sk-container-id-1 input.sk-toggleable__control:checked~div.sk-toggleable__content {max-height: 200px;max-width: 100%;overflow: auto;}#sk-container-id-1 input.sk-toggleable__control:checked~label.sk-toggleable__label-arrow:before {content: \"▾\";}#sk-container-id-1 div.sk-estimator input.sk-toggleable__control:checked~label.sk-toggleable__label {background-color: #d4ebff;}#sk-container-id-1 div.sk-label input.sk-toggleable__control:checked~label.sk-toggleable__label {background-color: #d4ebff;}#sk-container-id-1 input.sk-hidden--visually {border: 0;clip: rect(1px 1px 1px 1px);clip: rect(1px, 1px, 1px, 1px);height: 1px;margin: -1px;overflow: hidden;padding: 0;position: absolute;width: 1px;}#sk-container-id-1 div.sk-estimator {font-family: monospace;background-color: #f0f8ff;border: 1px dotted black;border-radius: 0.25em;box-sizing: border-box;margin-bottom: 0.5em;}#sk-container-id-1 div.sk-estimator:hover {background-color: #d4ebff;}#sk-container-id-1 div.sk-parallel-item::after {content: \"\";width: 100%;border-bottom: 1px solid gray;flex-grow: 1;}#sk-container-id-1 div.sk-label:hover label.sk-toggleable__label {background-color: #d4ebff;}#sk-container-id-1 div.sk-serial::before {content: \"\";position: absolute;border-left: 1px solid gray;box-sizing: border-box;top: 0;bottom: 0;left: 50%;z-index: 0;}#sk-container-id-1 div.sk-serial {display: flex;flex-direction: column;align-items: center;background-color: white;padding-right: 0.2em;padding-left: 0.2em;position: relative;}#sk-container-id-1 div.sk-item {position: relative;z-index: 1;}#sk-container-id-1 div.sk-parallel {display: flex;align-items: stretch;justify-content: center;background-color: white;position: relative;}#sk-container-id-1 div.sk-item::before, #sk-container-id-1 div.sk-parallel-item::before {content: \"\";position: absolute;border-left: 1px solid gray;box-sizing: border-box;top: 0;bottom: 0;left: 50%;z-index: -1;}#sk-container-id-1 div.sk-parallel-item {display: flex;flex-direction: column;z-index: 1;position: relative;background-color: white;}#sk-container-id-1 div.sk-parallel-item:first-child::after {align-self: flex-end;width: 50%;}#sk-container-id-1 div.sk-parallel-item:last-child::after {align-self: flex-start;width: 50%;}#sk-container-id-1 div.sk-parallel-item:only-child::after {width: 0;}#sk-container-id-1 div.sk-dashed-wrapped {border: 1px dashed gray;margin: 0 0.4em 0.5em 0.4em;box-sizing: border-box;padding-bottom: 0.4em;background-color: white;}#sk-container-id-1 div.sk-label label {font-family: monospace;font-weight: bold;display: inline-block;line-height: 1.2em;}#sk-container-id-1 div.sk-label-container {text-align: center;}#sk-container-id-1 div.sk-container {/* jupyter's `normalize.less` sets `[hidden] { display: none; }` but bootstrap.min.css set `[hidden] { display: none !important; }` so we also need the `!important` here to be able to override the default hidden behavior on the sphinx rendered scikit-learn.org. See: https://github.com/scikit-learn/scikit-learn/issues/21755 */display: inline-block !important;position: relative;}#sk-container-id-1 div.sk-text-repr-fallback {display: none;}</style><div id=\"sk-container-id-1\" class=\"sk-top-container\"><div class=\"sk-text-repr-fallback\"><pre>KNeighborsClassifier(n_neighbors=1)</pre><b>In a Jupyter environment, please rerun this cell to show the HTML representation or trust the notebook. <br />On GitHub, the HTML representation is unable to render, please try loading this page with nbviewer.org.</b></div><div class=\"sk-container\" hidden><div class=\"sk-item\"><div class=\"sk-estimator sk-toggleable\"><input class=\"sk-toggleable__control sk-hidden--visually\" id=\"sk-estimator-id-1\" type=\"checkbox\" checked><label for=\"sk-estimator-id-1\" class=\"sk-toggleable__label sk-toggleable__label-arrow\">KNeighborsClassifier</label><div class=\"sk-toggleable__content\"><pre>KNeighborsClassifier(n_neighbors=1)</pre></div></div></div></div></div>"
      ],
      "text/plain": [
       "KNeighborsClassifier(n_neighbors=1)"
      ]
     },
     "execution_count": 6,
     "metadata": {},
     "output_type": "execute_result"
    }
   ],
   "source": [
    "# Using all of training set\n",
    "neigh = KNeighborsClassifier(n_neighbors=1)\n",
    "neigh.fit(train_X, train_y)\n"
   ]
  },
  {
   "cell_type": "code",
   "execution_count": 7,
   "metadata": {},
   "outputs": [
    {
     "data": {
      "text/plain": [
       "0.9691"
      ]
     },
     "execution_count": 7,
     "metadata": {},
     "output_type": "execute_result"
    }
   ],
   "source": [
    "neigh.score(test_X, test_y)"
   ]
  },
  {
   "cell_type": "code",
   "execution_count": 8,
   "metadata": {},
   "outputs": [],
   "source": [
    "M = 10000"
   ]
  },
  {
   "cell_type": "code",
   "execution_count": 22,
   "metadata": {},
   "outputs": [],
   "source": [
    "# Baseline: random selection\n",
    "# return accuracy, elapsed time\n",
    "def baseline(M):\n",
    "    np.random.seed(0)\n",
    "    random_M_indices = np.random.choice(train_X.shape[0], M, replace=False)\n",
    "    train_X_base = train_X[random_M_indices]\n",
    "    train_y_base = train_y[random_M_indices]\n",
    "    neigh_base = KNeighborsClassifier(n_neighbors=1)\n",
    "    neigh_base.fit(train_X_base, train_y_base)\n",
    "    start = time.time()\n",
    "    acc = neigh_base.score(test_X, test_y)\n",
    "    elapse = time.time() - start\n",
    "    return acc, elapse"
   ]
  },
  {
   "cell_type": "code",
   "execution_count": null,
   "metadata": {},
   "outputs": [],
   "source": [
    "baseline(M)"
   ]
  },
  {
   "cell_type": "code",
   "execution_count": null,
   "metadata": {},
   "outputs": [],
   "source": [
    "train_y"
   ]
  },
  {
   "cell_type": "code",
   "execution_count": null,
   "metadata": {},
   "outputs": [],
   "source": [
    "# 1. (Method 3 in paper) KMeans with 10 buckets for 10 labels"
   ]
  },
  {
   "cell_type": "code",
   "execution_count": 1,
   "metadata": {},
   "outputs": [
    {
     "ename": "NameError",
     "evalue": "name 'np' is not defined",
     "output_type": "error",
     "traceback": [
      "\u001b[1;31m---------------------------------------------------------------------------\u001b[0m",
      "\u001b[1;31mNameError\u001b[0m                                 Traceback (most recent call last)",
      "Cell \u001b[1;32mIn[1], line 1\u001b[0m\n\u001b[1;32m----> 1\u001b[0m \u001b[38;5;28mprint\u001b[39m(\u001b[43mnp\u001b[49m\u001b[38;5;241m.\u001b[39msum(\u001b[38;5;28mlist\u001b[39m(\u001b[38;5;28mmap\u001b[39m(\u001b[38;5;28;01mlambda\u001b[39;00m x: \u001b[38;5;28mlen\u001b[39m(x), train_X_buckets))))\n\u001b[0;32m      2\u001b[0m \u001b[38;5;28;01massert\u001b[39;00m(np\u001b[38;5;241m.\u001b[39msum(\u001b[38;5;28mlist\u001b[39m(\u001b[38;5;28mmap\u001b[39m(\u001b[38;5;28;01mlambda\u001b[39;00m x: \u001b[38;5;28mlen\u001b[39m(x), train_X_buckets))) \u001b[38;5;241m==\u001b[39m train_X\u001b[38;5;241m.\u001b[39mshape[\u001b[38;5;241m0\u001b[39m])\n",
      "\u001b[1;31mNameError\u001b[0m: name 'np' is not defined"
     ]
    }
   ],
   "source": [
    "print(np.sum(list(map(lambda x: len(x), train_X_buckets))))\n",
    "assert(np.sum(list(map(lambda x: len(x), train_X_buckets))) == train_X.shape[0])"
   ]
  },
  {
   "cell_type": "code",
   "execution_count": null,
   "metadata": {},
   "outputs": [],
   "source": [
    "for i in range(10):\n",
    "    print(train_X_buckets[i].shape)"
   ]
  },
  {
   "cell_type": "code",
   "execution_count": null,
   "metadata": {},
   "outputs": [],
   "source": [
    "cluster_center_bucket = []\n",
    "for i in range(10):\n",
    "    kmeans = KMeans(n_clusters=int(M/10), random_state=0, n_init=\"auto\").fit(train_X_buckets[i])\n",
    "    cluster_center_bucket.append(kmeans.cluster_centers_)"
   ]
  },
  {
   "cell_type": "code",
   "execution_count": null,
   "metadata": {},
   "outputs": [],
   "source": [
    "cluster_center_bucket[0].shape"
   ]
  },
  {
   "cell_type": "code",
   "execution_count": null,
   "metadata": {},
   "outputs": [],
   "source": [
    "np.concatenate(cluster_center_bucket, axis=0).shape"
   ]
  },
  {
   "cell_type": "code",
   "execution_count": null,
   "metadata": {},
   "outputs": [],
   "source": [
    "train_X_kmeans_bucket = np.concatenate(cluster_center_bucket, axis=0)"
   ]
  },
  {
   "cell_type": "code",
   "execution_count": null,
   "metadata": {},
   "outputs": [],
   "source": [
    "train_y_kmeans_bucket = []\n",
    "for i in range(10):\n",
    "    train_y_kmeans_bucket.append([i] * cluster_center_bucket[i].shape[0])\n",
    "train_y_kmeans_bucket = np.concatenate(train_y_kmeans_bucket)\n",
    "train_y_kmeans_bucket"
   ]
  },
  {
   "cell_type": "code",
   "execution_count": null,
   "metadata": {},
   "outputs": [],
   "source": [
    "print(train_y_kmeans_bucket[0], train_y_kmeans_bucket[1000], train_y_kmeans_bucket[2000])\n",
    "train_y_kmeans_bucket.shape"
   ]
  },
  {
   "cell_type": "code",
   "execution_count": null,
   "metadata": {},
   "outputs": [],
   "source": [
    "assert(train_X_kmeans_bucket.shape[0] == M)\n",
    "assert(train_y_kmeans_bucket.shape[0] == M)"
   ]
  },
  {
   "cell_type": "code",
   "execution_count": null,
   "metadata": {},
   "outputs": [],
   "source": [
    "neigh_kmeans_bucket = KNeighborsClassifier(n_neighbors=1)\n",
    "neigh_kmeans_bucket.fit(train_X_kmeans_bucket, train_y_kmeans_bucket)"
   ]
  },
  {
   "cell_type": "code",
   "execution_count": null,
   "metadata": {},
   "outputs": [],
   "source": [
    "neigh_kmeans_bucket.score(test_X, test_y)"
   ]
  },
  {
   "cell_type": "code",
   "execution_count": null,
   "metadata": {},
   "outputs": [],
   "source": [
    "# 2. (Method 4 in paper) KMeans cluster center is the mean of all points in the cluster, which doesn't exist in the original dataset.\n",
    "# What if we find the 1NN of the cluster center so that we return a subset of the training data?"
   ]
  },
  {
   "cell_type": "code",
   "execution_count": null,
   "metadata": {},
   "outputs": [],
   "source": [
    "center_1nn_bucket = []\n",
    "neigh_center = KNeighborsClassifier(n_neighbors=1)\n",
    "neigh_center.fit(train_X, train_y)"
   ]
  },
  {
   "cell_type": "code",
   "execution_count": null,
   "metadata": {},
   "outputs": [],
   "source": [
    "train_X[np.concatenate(neigh_center.kneighbors(cluster_center_bucket[0], return_distance=False))].shape"
   ]
  },
  {
   "cell_type": "code",
   "execution_count": null,
   "metadata": {},
   "outputs": [],
   "source": [
    "# use the cluster centers as queries to find the closest points in raw training dataset\n",
    "for i in range(10):\n",
    "    center_1nn_bucket.append(train_X[np.concatenate(neigh_center.kneighbors(cluster_center_bucket[i], return_distance=False))])"
   ]
  },
  {
   "cell_type": "code",
   "execution_count": null,
   "metadata": {},
   "outputs": [],
   "source": [
    "train_X_kmeans_1nn_bucket = np.concatenate(center_1nn_bucket, axis=0)\n",
    "train_y_kmeans_1nn_bucket = train_y_kmeans_bucket\n",
    "assert(train_X_kmeans_1nn_bucket.shape[0] == M)\n",
    "assert(train_y_kmeans_1nn_bucket.shape[0] == M)\n",
    "neigh_kmeans_1nn_bucket = KNeighborsClassifier(n_neighbors=1)\n",
    "neigh_kmeans_1nn_bucket.fit(train_X_kmeans_1nn_bucket, train_y_kmeans_1nn_bucket)"
   ]
  },
  {
   "cell_type": "code",
   "execution_count": null,
   "metadata": {},
   "outputs": [],
   "source": [
    "neigh_kmeans_1nn_bucket.score(test_X, test_y)"
   ]
  },
  {
   "cell_type": "code",
   "execution_count": null,
   "metadata": {},
   "outputs": [],
   "source": [
    "# 3. (Method 1 in paper) KMeans but doesn't separate into 10 buckets. Use majority vote in clusters\n",
    "# It is possible that an outlier in the bucket labelled \"2\" gets grouped into a single point cluster by the KMeans Clustering\n",
    "# Then a query near it the centroid will be labeled \"2\" even if every point around it is \"1\"."
   ]
  },
  {
   "cell_type": "code",
   "execution_count": null,
   "metadata": {},
   "outputs": [],
   "source": [
    "kmeans = KMeans(n_clusters=M, random_state=0, n_init=\"auto\").fit(train_X)"
   ]
  },
  {
   "cell_type": "code",
   "execution_count": null,
   "metadata": {},
   "outputs": [],
   "source": [
    "kmeans.labels_"
   ]
  },
  {
   "cell_type": "code",
   "execution_count": null,
   "metadata": {},
   "outputs": [],
   "source": [
    "clusters = []\n",
    "train_X_majority = []\n",
    "train_y_majority = []\n",
    "\n",
    "for _ in range(M):\n",
    "    clusters.append([])\n",
    "for i in range(train_X.shape[0]):\n",
    "    clusters[kmeans.labels_[i]].append(i)\n",
    "for clust in clusters:\n",
    "    # clust contains indices of training data\n",
    "    count = [0] * 10\n",
    "    for j in clust:\n",
    "        count[train_y[j]] += 1\n",
    "    label = count.index(max(count)) # Majority vote. Break ties by the smallest label\n",
    "    centroid = np.mean(train_X[clust], axis=0)\n",
    "    train_X_majority.append(centroid)\n",
    "    train_y_majority.append(label)"
   ]
  },
  {
   "cell_type": "code",
   "execution_count": null,
   "metadata": {},
   "outputs": [],
   "source": [
    "train_X_majority = np.array(train_X_majority)\n",
    "train_y_majority = np.array(train_y_majority)\n",
    "assert(train_X_majority.shape[0] == M)\n",
    "assert(train_y_majority.shape[0] == M)\n",
    "neigh_majority_1nn = KNeighborsClassifier(n_neighbors=1)\n",
    "neigh_majority_1nn.fit(train_X_majority, train_y_majority)"
   ]
  },
  {
   "cell_type": "code",
   "execution_count": null,
   "metadata": {},
   "outputs": [],
   "source": [
    "neigh_majority_1nn.score(test_X, test_y)"
   ]
  },
  {
   "cell_type": "code",
   "execution_count": null,
   "metadata": {},
   "outputs": [],
   "source": [
    "# 4. (Method 2 in paper) Purify the clusters to contain a single label and relocate the cluster centers.\n",
    "# There're 2 ways to relocate the center. \n",
    "# One is to take the mean of the remaining points in the cluster after purification.\n",
    "# Another is to rerun the KMeans clustering algorithm on the whole set of remaining points.\n",
    "# In fact, this 2nd way can be seemed as an iterative process. \n",
    "# We can iteratively kick out points that are not majority of a cluster and rerun the KMeans algorithm until we cannot kick out any point anymore.\n",
    "# Then we would have clusters that are very separated with clear boundaries.\n",
    "\n",
    "# Discussion: the 2nd way will be infeasible to implement because KMeans takes too long (~15min) on the whole MNIST dataset. \n",
    "# Can only try to iterate a small number of times."
   ]
  },
  {
   "cell_type": "code",
   "execution_count": null,
   "metadata": {},
   "outputs": [],
   "source": [
    "clusters = []\n",
    "train_X_majority_pure = []\n",
    "train_y_majority_pure = []\n",
    "\n",
    "for _ in range(M):\n",
    "    clusters.append([])\n",
    "for i in range(train_X.shape[0]):\n",
    "    clusters[kmeans.labels_[i]].append(i)\n",
    "for clust in clusters:\n",
    "    # clust contains indices of training data\n",
    "    count = [0] * 10\n",
    "    for j in clust:\n",
    "        count[train_y[j]] += 1\n",
    "    label = count.index(max(count)) # Majority vote. Break ties by the smallest label\n",
    "    # only take mean of the majority\n",
    "    majority = [] # contains indices in training data of the clust majority\n",
    "    for j in clust:\n",
    "        if train_y[j] == label:\n",
    "            majority.append(j)\n",
    "    centroid = np.mean(train_X[majority], axis=0)\n",
    "    train_X_majority_pure.append(centroid)\n",
    "    train_y_majority_pure.append(label)"
   ]
  },
  {
   "cell_type": "code",
   "execution_count": null,
   "metadata": {},
   "outputs": [],
   "source": [
    "train_X_majority_pure = np.array(train_X_majority_pure)\n",
    "train_y_majority_pure = np.array(train_y_majority_pure)\n",
    "assert(train_X_majority_pure.shape[0] == M)\n",
    "assert(train_y_majority_pure.shape[0] == M)\n",
    "neigh_majority_pure_1nn = KNeighborsClassifier(n_neighbors=1)\n",
    "neigh_majority_pure_1nn.fit(train_X_majority_pure, train_y_majority_pure)"
   ]
  },
  {
   "cell_type": "code",
   "execution_count": null,
   "metadata": {},
   "outputs": [],
   "source": [
    "neigh_majority_pure_1nn.score(test_X, test_y)"
   ]
  },
  {
   "cell_type": "code",
   "execution_count": null,
   "metadata": {},
   "outputs": [],
   "source": [
    "# 5. Locality Sensitive Hashing\n",
    "\n",
    "# In LSH, we cannot specify the number of clusters/centroids (M). \n",
    "# Therefore, we may need to do the above methods again based on the new M from the LSH hash. "
   ]
  },
  {
   "cell_type": "code",
   "execution_count": null,
   "metadata": {},
   "outputs": [],
   "source": [
    "# 6. (Didn't implement this one. Can discuss)\n",
    "# What if we do KMeans multiple times with different random seeds? \n",
    "# Since KMeans is random, I suspect averaging over these will give a better performance.\n",
    "# Then we would have multiple copies of M/10 centroids. \n",
    "# What if we do another KMeans clustering over these?\n",
    "\n",
    "# Do this for the 10 buckets, not the whole dataset, since KMeans on the whole dataset takes too long"
   ]
  },
  {
   "cell_type": "code",
   "execution_count": null,
   "metadata": {},
   "outputs": [],
   "source": [
    "# 7. As Method 2 reasons:\n",
    "# 'It is possible that an outlier in the bucket labelled \"2\" gets grouped into a single point cluster by the KMeans Clustering'\n",
    "# 'Then a query near it the centroid will be labeled \"2\" even if every point around it is \"1\".'\n",
    "# What if we coarsely purify the dataset first in each cluster, and then do the bucket?"
   ]
  },
  {
   "cell_type": "code",
   "execution_count": null,
   "metadata": {},
   "outputs": [],
   "source": [
    "hashtable_center_bucket = []\n",
    "for _ in range(10):\n",
    "    hashtable_center_bucket.append([])\n",
    "\n",
    "k = (M//10).bit_length() # hash size = log2(M/10)\n",
    "L = 1  # number of tables\n",
    "d = 784 # Dimension of Feature vector\n",
    "\n",
    "center_num = 0\n",
    "\n",
    "for i in range(10):\n",
    "    lsh = LSHash(hash_size=k, input_dim=d, num_hashtables=L)\n",
    "    for j in train_X_buckets[i]:\n",
    "        lsh.index(j)\n",
    "    hashtable = lsh.hash_tables[0].storage\n",
    "    center_num += len(list(hashtable.keys()))\n",
    "    for key, value in hashtable.items():\n",
    "        cluster = []\n",
    "        for v in value:\n",
    "            cluster.append(np.array(v[0]))\n",
    "        cluster = np.array(cluster)\n",
    "        # np.mean(cluster, axis = 0).astype(int)\n",
    "        hashtable_center_bucket[i].append(np.mean(cluster, axis = 0))\n"
   ]
  },
  {
   "cell_type": "code",
   "execution_count": null,
   "metadata": {},
   "outputs": [],
   "source": [
    "for i in range(10):\n",
    "    print(len(hashtable_center_bucket[i]))"
   ]
  },
  {
   "cell_type": "code",
   "execution_count": null,
   "metadata": {},
   "outputs": [],
   "source": [
    "center_num"
   ]
  },
  {
   "cell_type": "code",
   "execution_count": null,
   "metadata": {},
   "outputs": [],
   "source": [
    "train_X_lsh_bucket = np.concatenate(hashtable_center_bucket, axis=0)\n",
    "train_X_lsh_bucket.shape"
   ]
  },
  {
   "cell_type": "code",
   "execution_count": null,
   "metadata": {},
   "outputs": [],
   "source": [
    "baseline(center_num)"
   ]
  },
  {
   "cell_type": "code",
   "execution_count": null,
   "metadata": {},
   "outputs": [],
   "source": [
    "train_y_lsh_bucket = []\n",
    "for i in range(10):\n",
    "    train_y_lsh_bucket.append([i] * len(hashtable_center_bucket[i]))\n",
    "train_y_lsh_bucket = np.concatenate(train_y_lsh_bucket)\n",
    "len(train_y_lsh_bucket), train_y_lsh_bucket"
   ]
  },
  {
   "cell_type": "code",
   "execution_count": null,
   "metadata": {},
   "outputs": [],
   "source": [
    "neigh_lsh_bucket = KNeighborsClassifier(n_neighbors=1)\n",
    "neigh_lsh_bucket.fit(train_X_lsh_bucket, train_y_lsh_bucket)\n",
    "neigh_lsh_bucket.score(test_X, test_y)"
   ]
  },
  {
   "cell_type": "code",
   "execution_count": null,
   "metadata": {},
   "outputs": [],
   "source": [
    "# Summarize all methods"
   ]
  },
  {
   "cell_type": "code",
   "execution_count": 9,
   "metadata": {},
   "outputs": [],
   "source": [
    "def avgTime(neigh):\n",
    "    acc, time_sum = 0, 0\n",
    "    for _ in range(10):\n",
    "        start = time.time()\n",
    "        acc = neigh.score(test_X, test_y)\n",
    "        time_sum += time.time() - start\n",
    "    return acc, time_sum/10"
   ]
  },
  {
   "cell_type": "code",
   "execution_count": 10,
   "metadata": {},
   "outputs": [],
   "source": [
    "# Baseline: random selection\n",
    "# return accuracy, elapsed time\n",
    "def baseline(M):\n",
    "    np.random.seed(0)\n",
    "    random_M_indices = np.random.choice(train_X.shape[0], M, replace=False)\n",
    "    train_X_base = train_X[random_M_indices]\n",
    "    train_y_base = train_y[random_M_indices]\n",
    "    neigh_base = KNeighborsClassifier(n_neighbors=1)\n",
    "    neigh_base.fit(train_X_base, train_y_base)\n",
    "    acc, elapse = avgTime(neigh_base)\n",
    "    return acc, elapse"
   ]
  },
  {
   "cell_type": "code",
   "execution_count": 11,
   "metadata": {},
   "outputs": [],
   "source": [
    "# summarize method1 into function\n",
    "# return accuracy, elapsed time\n",
    "# return cluster_center_bucket, train_y_kmeans_bucket (used for method2)\n",
    "def method1(M):\n",
    "    # train_X_buckets = []\n",
    "    # for i in range(10):\n",
    "    #     train_X_buckets.append(train_X[train_y == i])\n",
    "    assert(np.sum(list(map(lambda x: len(x), train_X_buckets))) == train_X.shape[0])\n",
    "    cluster_center_bucket = []\n",
    "    for i in range(10):\n",
    "        kmeans = KMeans(n_clusters=int(M/10), random_state=0, n_init=\"auto\").fit(train_X_buckets[i])\n",
    "        cluster_center_bucket.append(kmeans.cluster_centers_)\n",
    "    train_X_kmeans_bucket = np.concatenate(cluster_center_bucket, axis=0)\n",
    "    train_y_kmeans_bucket = []\n",
    "    for i in range(10):\n",
    "        train_y_kmeans_bucket.append([i] * cluster_center_bucket[i].shape[0])\n",
    "    train_y_kmeans_bucket = np.concatenate(train_y_kmeans_bucket)\n",
    "    # assert(train_X_kmeans_bucket.shape[0] == M)\n",
    "    # assert(train_y_kmeans_bucket.shape[0] == M)\n",
    "    neigh_kmeans_bucket = KNeighborsClassifier(n_neighbors=1)\n",
    "    neigh_kmeans_bucket.fit(train_X_kmeans_bucket, train_y_kmeans_bucket)\n",
    "    acc, elapse = avgTime(neigh_kmeans_bucket)\n",
    "    return acc, elapse, cluster_center_bucket, train_y_kmeans_bucket"
   ]
  },
  {
   "cell_type": "code",
   "execution_count": 12,
   "metadata": {},
   "outputs": [],
   "source": [
    "# summarize method2 into function\n",
    "# use cluster_center_bucket, train_y_kmeans_bucket from method1\n",
    "# return accuracy, elapsed time\n",
    "def method2(M, cluster_center_bucket, train_y_kmeans_bucket):\n",
    "    center_1nn_bucket = []\n",
    "    neigh_center = KNeighborsClassifier(n_neighbors=1)\n",
    "    neigh_center.fit(train_X, train_y)\n",
    "    for i in range(10):\n",
    "        center_1nn_bucket.append(train_X[np.concatenate(neigh_center.kneighbors(cluster_center_bucket[i], return_distance=False))])\n",
    "    train_X_kmeans_1nn_bucket = np.concatenate(center_1nn_bucket, axis=0)\n",
    "    train_y_kmeans_1nn_bucket = train_y_kmeans_bucket\n",
    "    # assert(train_X_kmeans_1nn_bucket.shape[0] == M)\n",
    "    # assert(train_y_kmeans_1nn_bucket.shape[0] == M)\n",
    "    neigh_kmeans_1nn_bucket = KNeighborsClassifier(n_neighbors=1)\n",
    "    neigh_kmeans_1nn_bucket.fit(train_X_kmeans_1nn_bucket, train_y_kmeans_1nn_bucket)\n",
    "    acc, elapse = avgTime(neigh_kmeans_1nn_bucket)\n",
    "    return acc, elapse"
   ]
  },
  {
   "cell_type": "code",
   "execution_count": 13,
   "metadata": {},
   "outputs": [],
   "source": [
    "# summarize method3 into function\n",
    "# return accuracy and elapsed time\n",
    "# return the kmeans model (used for method4)\n",
    "def method3(M):\n",
    "    kmeans = KMeans(n_clusters=M, random_state=0, n_init=\"auto\").fit(train_X)\n",
    "    clusters = []\n",
    "    train_X_majority = []\n",
    "    train_y_majority = []\n",
    "\n",
    "    for _ in range(M):\n",
    "        clusters.append([])\n",
    "    for i in range(train_X.shape[0]):\n",
    "        clusters[kmeans.labels_[i]].append(i)\n",
    "    for clust in clusters:\n",
    "        # clust contains indices of training data\n",
    "        count = [0] * 10\n",
    "        for j in clust:\n",
    "            count[train_y[j]] += 1\n",
    "        label = count.index(max(count)) # Majority vote. Break ties by the smallest label\n",
    "        centroid = np.mean(train_X[clust], axis=0)\n",
    "        train_X_majority.append(centroid)\n",
    "        train_y_majority.append(label)\n",
    "    train_X_majority = np.array(train_X_majority)\n",
    "    train_y_majority = np.array(train_y_majority)\n",
    "    # assert(train_X_majority.shape[0] == M)\n",
    "    # assert(train_y_majority.shape[0] == M)\n",
    "    neigh_majority_1nn = KNeighborsClassifier(n_neighbors=1)\n",
    "    neigh_majority_1nn.fit(train_X_majority, train_y_majority)\n",
    "    acc, elapse = avgTime(neigh_majority_1nn)\n",
    "    return acc, elapse, kmeans"
   ]
  },
  {
   "cell_type": "code",
   "execution_count": 14,
   "metadata": {},
   "outputs": [],
   "source": [
    "# summarize method4 into function\n",
    "# use the kmeans model from method3\n",
    "# return accuracy and elapsed time\n",
    "def method4(M, kmeans):\n",
    "    clusters = []\n",
    "    train_X_majority_pure = []\n",
    "    train_y_majority_pure = []\n",
    "\n",
    "    for _ in range(M):\n",
    "        clusters.append([])\n",
    "    for i in range(train_X.shape[0]):\n",
    "        clusters[kmeans.labels_[i]].append(i)\n",
    "    for clust in clusters:\n",
    "        # clust contains indices of training data\n",
    "        count = [0] * 10\n",
    "        for j in clust:\n",
    "            count[train_y[j]] += 1\n",
    "        label = count.index(max(count)) # Majority vote. Break ties by the smallest label\n",
    "        # only take mean of the majority\n",
    "        majority = [] # contains indices in training data of the clust majority\n",
    "        for j in clust:\n",
    "            if train_y[j] == label:\n",
    "                majority.append(j)\n",
    "        centroid = np.mean(train_X[majority], axis=0)\n",
    "        train_X_majority_pure.append(centroid)\n",
    "        train_y_majority_pure.append(label)\n",
    "    train_X_majority_pure = np.array(train_X_majority_pure)\n",
    "    train_y_majority_pure = np.array(train_y_majority_pure)\n",
    "    # assert(train_X_majority_pure.shape[0] == M)\n",
    "    # assert(train_y_majority_pure.shape[0] == M)\n",
    "    neigh_majority_pure_1nn = KNeighborsClassifier(n_neighbors=1)\n",
    "    neigh_majority_pure_1nn.fit(train_X_majority_pure, train_y_majority_pure)\n",
    "    acc, elapse = avgTime(neigh_majority_pure_1nn)\n",
    "    return acc, elapse"
   ]
  },
  {
   "cell_type": "code",
   "execution_count": 15,
   "metadata": {},
   "outputs": [],
   "source": [
    "# summarize method5 into function\n",
    "# return accuracy, elapsed time\n",
    "# return a compression number close to M\n",
    "def method5(M):\n",
    "    hashtable_center_bucket = []\n",
    "    for _ in range(10):\n",
    "        hashtable_center_bucket.append([])\n",
    "\n",
    "    k = (M//10).bit_length() + 3 # hash size = log2(M/10) + 3\n",
    "    L = 1  # number of tables\n",
    "    d = 784 # Dimension of Feature vector\n",
    "\n",
    "    center_num = 0\n",
    "    for i in range(10):\n",
    "        lsh = LSHash(hash_size=k, input_dim=d, num_hashtables=L)\n",
    "        for j in train_X_buckets[i]:\n",
    "            lsh.index(j)\n",
    "        hashtable = lsh.hash_tables[0].storage\n",
    "        center_num += len(list(hashtable.keys()))\n",
    "        for key, value in hashtable.items():\n",
    "            cluster = []\n",
    "            for v in value:\n",
    "                cluster.append(np.array(v[0]))\n",
    "            cluster = np.array(cluster)\n",
    "            # np.mean(cluster, axis = 0).astype(int)\n",
    "            hashtable_center_bucket[i].append(np.mean(cluster, axis = 0))\n",
    "\n",
    "    train_X_lsh_bucket = np.concatenate(hashtable_center_bucket, axis=0)\n",
    "    train_y_lsh_bucket = []\n",
    "    for i in range(10):\n",
    "        train_y_lsh_bucket.append([i] * len(hashtable_center_bucket[i]))\n",
    "    train_y_lsh_bucket = np.concatenate(train_y_lsh_bucket)\n",
    "    len(train_y_lsh_bucket), train_y_lsh_bucket\n",
    "    neigh_lsh_bucket = KNeighborsClassifier(n_neighbors=1)\n",
    "    neigh_lsh_bucket.fit(train_X_lsh_bucket, train_y_lsh_bucket)\n",
    "    acc, elapse = avgTime(neigh_lsh_bucket)\n",
    "    return acc, elapse, center_num"
   ]
  },
  {
   "cell_type": "code",
   "execution_count": 16,
   "metadata": {},
   "outputs": [],
   "source": [
    "def method7(M):\n",
    "    kmeans = KMeans(n_clusters=M, random_state=0, n_init=\"auto\").fit(train_X)\n",
    "    clusters = []\n",
    "    # train_X_majority_pure = []\n",
    "    # train_y_majority_pure = []\n",
    "    kept = []\n",
    "\n",
    "    for _ in range(M):\n",
    "        clusters.append([])\n",
    "    for i in range(train_X.shape[0]):\n",
    "        clusters[kmeans.labels_[i]].append(i)\n",
    "    for clust in clusters:\n",
    "        # clust contains indices of training data\n",
    "        count = [0] * 10\n",
    "        for j in clust:\n",
    "            count[train_y[j]] += 1\n",
    "        label = count.index(max(count)) # Majority vote. Break ties by the smallest label\n",
    "        # only take mean of the majority\n",
    "        majority = [] # contains indices in training data of the clust majority\n",
    "        for j in clust:\n",
    "            if train_y[j] == label:\n",
    "                majority.append(j)\n",
    "                kept.append(j)\n",
    "        # centroid = np.mean(train_X[majority], axis=0)\n",
    "        # train_X_majority_pure.append(centroid)\n",
    "        # train_y_majority_pure.append(label)\n",
    "    train_X_pure = train_X[kept]\n",
    "    train_y_pure = train_y[kept]\n",
    "\n",
    "    train_X_buckets = []\n",
    "    for i in range(10):\n",
    "        train_X_buckets.append(train_X_pure[train_y_pure == i])\n",
    "    # assert(np.sum(list(map(lambda x: len(x), train_X_buckets))) == train_X.shape[0])\n",
    "    cluster_center_bucket = []\n",
    "    for i in range(10):\n",
    "        kmeans = KMeans(n_clusters=int(M/10), random_state=0, n_init=\"auto\").fit(train_X_buckets[i])\n",
    "        cluster_center_bucket.append(kmeans.cluster_centers_)\n",
    "    train_X_kmeans_bucket = np.concatenate(cluster_center_bucket, axis=0)\n",
    "    train_y_kmeans_bucket = []\n",
    "    for i in range(10):\n",
    "        train_y_kmeans_bucket.append([i] * cluster_center_bucket[i].shape[0])\n",
    "    train_y_kmeans_bucket = np.concatenate(train_y_kmeans_bucket)\n",
    "    neigh_kmeans_bucket = KNeighborsClassifier(n_neighbors=1)\n",
    "    neigh_kmeans_bucket.fit(train_X_kmeans_bucket, train_y_kmeans_bucket)\n",
    "    acc, elapse = avgTime(neigh_kmeans_bucket)\n",
    "    \n",
    "    # neigh_majority_pure_1nn = KNeighborsClassifier(n_neighbors=1)\n",
    "    # neigh_majority_pure_1nn.fit(train_X_majority_pure, train_y_majority_pure)\n",
    "    # acc, elapse = avgTime(neigh_majority_pure_1nn)\n",
    "    return acc, elapse"
   ]
  },
  {
   "cell_type": "code",
   "execution_count": 17,
   "metadata": {},
   "outputs": [],
   "source": [
    "M = 10000"
   ]
  },
  {
   "cell_type": "code",
   "execution_count": 18,
   "metadata": {},
   "outputs": [],
   "source": [
    "# separate train into 10 labels\n",
    "train_X_buckets = []\n",
    "for i in range(10):\n",
    "    train_X_buckets.append(train_X[train_y == i])"
   ]
  },
  {
   "cell_type": "code",
   "execution_count": 19,
   "metadata": {},
   "outputs": [],
   "source": [
    "acc7, elapse7 = method7(M)"
   ]
  },
  {
   "cell_type": "code",
   "execution_count": 20,
   "metadata": {},
   "outputs": [
    {
     "data": {
      "text/plain": [
       "(0.9676, 2.479336667060852)"
      ]
     },
     "execution_count": 20,
     "metadata": {},
     "output_type": "execute_result"
    }
   ],
   "source": [
    "acc7, elapse7"
   ]
  },
  {
   "cell_type": "code",
   "execution_count": 65,
   "metadata": {},
   "outputs": [
    {
     "data": {
      "text/plain": [
       "(0.9492, 2.855719208717346)"
      ]
     },
     "execution_count": 65,
     "metadata": {},
     "output_type": "execute_result"
    }
   ],
   "source": [
    "accB, elapseB = baseline(M)\n",
    "accB, elapseB"
   ]
  },
  {
   "cell_type": "code",
   "execution_count": 21,
   "metadata": {},
   "outputs": [
    {
     "data": {
      "text/plain": [
       "(0.9708, 2.4796133279800414)"
      ]
     },
     "execution_count": 21,
     "metadata": {},
     "output_type": "execute_result"
    }
   ],
   "source": [
    "acc1, elapse1, cluster_center_bucket, train_y_kmeans_bucket = method1(M)\n",
    "acc1, elapse1"
   ]
  },
  {
   "cell_type": "code",
   "execution_count": 67,
   "metadata": {},
   "outputs": [
    {
     "data": {
      "text/plain": [
       "(0.9568, 2.803221011161804)"
      ]
     },
     "execution_count": 67,
     "metadata": {},
     "output_type": "execute_result"
    }
   ],
   "source": [
    "acc2, elapse2 = method2(M, cluster_center_bucket, train_y_kmeans_bucket)\n",
    "acc2, elapse2"
   ]
  },
  {
   "cell_type": "code",
   "execution_count": 68,
   "metadata": {},
   "outputs": [
    {
     "data": {
      "text/plain": [
       "(0.9638, 2.770078206062317)"
      ]
     },
     "execution_count": 68,
     "metadata": {},
     "output_type": "execute_result"
    }
   ],
   "source": [
    "acc3, elapse3, kmeans = method3(M)\n",
    "acc3, elapse3"
   ]
  },
  {
   "cell_type": "code",
   "execution_count": 69,
   "metadata": {},
   "outputs": [
    {
     "data": {
      "text/plain": [
       "(0.9678, 2.7765588045120237)"
      ]
     },
     "execution_count": 69,
     "metadata": {},
     "output_type": "execute_result"
    }
   ],
   "source": [
    "acc4, elapse4 = method4(M, kmeans)\n",
    "acc4, elapse4"
   ]
  },
  {
   "cell_type": "code",
   "execution_count": 70,
   "metadata": {},
   "outputs": [
    {
     "data": {
      "text/plain": [
       "(0.94906, 2.6092892551422118, 9472)"
      ]
     },
     "execution_count": 70,
     "metadata": {},
     "output_type": "execute_result"
    }
   ],
   "source": [
    "# Do method6 multiple times due to randomness\n",
    "# obtain a new M\n",
    "accList, elapseList, newMList = [], [], []\n",
    "for i in range(5):\n",
    "    acc5, elapse5, newM = method5(M)\n",
    "    accList.append(acc5), elapseList.append(elapse5), newMList.append(newM)\n",
    "acc5, elapse5, newM = np.mean(accList), np.mean(elapseList), int(np.mean(newMList))\n",
    "acc5, elapse5, newM"
   ]
  },
  {
   "cell_type": "code",
   "execution_count": 71,
   "metadata": {},
   "outputs": [
    {
     "data": {
      "text/plain": [
       "(0.9484, 2.514045524597168)"
      ]
     },
     "execution_count": 71,
     "metadata": {},
     "output_type": "execute_result"
    }
   ],
   "source": [
    "accB, elapseB = baseline(newM)\n",
    "accB, elapseB"
   ]
  },
  {
   "cell_type": "code",
   "execution_count": 72,
   "metadata": {},
   "outputs": [
    {
     "data": {
      "text/plain": [
       "(0.9703, 2.6321234703063965)"
      ]
     },
     "execution_count": 72,
     "metadata": {},
     "output_type": "execute_result"
    }
   ],
   "source": [
    "acc1, elapse1, cluster_center_bucket, train_y_kmeans_bucket = method1(newM)\n",
    "acc1, elapse1"
   ]
  },
  {
   "cell_type": "code",
   "execution_count": 73,
   "metadata": {},
   "outputs": [
    {
     "data": {
      "text/plain": [
       "(0.9567, 2.750431180000305)"
      ]
     },
     "execution_count": 73,
     "metadata": {},
     "output_type": "execute_result"
    }
   ],
   "source": [
    "acc2, elapse2 = method2(newM, cluster_center_bucket, train_y_kmeans_bucket)\n",
    "acc2, elapse2"
   ]
  },
  {
   "cell_type": "code",
   "execution_count": 74,
   "metadata": {},
   "outputs": [
    {
     "data": {
      "text/plain": [
       "(0.964, 2.5999537467956544)"
      ]
     },
     "execution_count": 74,
     "metadata": {},
     "output_type": "execute_result"
    }
   ],
   "source": [
    "acc3, elapse3, kmeans = method3(newM)\n",
    "acc3, elapse3"
   ]
  },
  {
   "cell_type": "code",
   "execution_count": 75,
   "metadata": {},
   "outputs": [
    {
     "data": {
      "text/plain": [
       "(0.9672, 2.6730650424957276)"
      ]
     },
     "execution_count": 75,
     "metadata": {},
     "output_type": "execute_result"
    }
   ],
   "source": [
    "acc4, elapse4 = method4(newM, kmeans)\n",
    "acc4, elapse4"
   ]
  },
  {
   "cell_type": "code",
   "execution_count": 77,
   "metadata": {},
   "outputs": [],
   "source": [
    "def experiment(M):\n",
    "    accB, elapseB = baseline(M)\n",
    "    print(\"Baseline for M =\", M, \"acc:\", accB, \"time:\", elapseB)\n",
    "    acc1, elapse1, cluster_center_bucket, train_y_kmeans_bucket = method1(M)\n",
    "    print(\"Method1 for M =\", M, \"acc:\", acc1, \"time:\", elapse1)\n",
    "    acc2, elapse2 = method2(M, cluster_center_bucket, train_y_kmeans_bucket)\n",
    "    print(\"Method2 for M =\", M, \"acc:\", acc2, \"time:\", elapse2)\n",
    "    acc3, elapse3, kmeans = method3(M)\n",
    "    print(\"Method3 for M =\", M, \"acc:\", acc3, \"time:\", elapse3)\n",
    "    acc4, elapse4 = method4(M, kmeans)\n",
    "    print(\"Method4 for M =\", M, \"acc:\", acc4, \"time:\", elapse4)\n",
    "    accList, elapseList, newMList = [], [], []\n",
    "    for i in range(5):\n",
    "        acc5, elapse5, newM = method5(M)\n",
    "        accList.append(acc5), elapseList.append(elapse5), newMList.append(newM)\n",
    "    acc5, elapse5, newM = np.mean(accList), np.mean(elapseList), int(np.mean(newMList))\n",
    "    print(\"Method5 for M =\", newM, \"acc:\", acc5, \"time:\", elapse5)\n",
    "    accB, elapseB = baseline(newM)\n",
    "    print(\"Baseline for M =\", newM, \"acc:\", accB, \"time:\", elapseB)\n",
    "    acc1, elapse1, cluster_center_bucket, train_y_kmeans_bucket = method1(newM)\n",
    "    print(\"Method1 for M =\", newM, \"acc:\", acc1, \"time:\", elapse1)\n",
    "    acc2, elapse2 = method2(newM, cluster_center_bucket, train_y_kmeans_bucket)\n",
    "    print(\"Method2 for M =\", newM, \"acc:\", acc2, \"time:\", elapse2)\n",
    "    acc3, elapse3, kmeans = method3(newM)\n",
    "    print(\"Method3 for M =\", newM, \"acc:\", acc3, \"time:\", elapse3)\n",
    "    acc4, elapse4 = method4(newM, kmeans)\n",
    "    print(\"Method4 for M =\", newM, \"acc:\", acc4, \"time:\", elapse4)"
   ]
  },
  {
   "cell_type": "code",
   "execution_count": 80,
   "metadata": {},
   "outputs": [
    {
     "name": "stdout",
     "output_type": "stream",
     "text": [
      "Baseline for M = 5000 acc: 0.9375 time: 1.455735206604004\n",
      "Method1 for M = 5000 acc: 0.9701 time: 1.3934577465057374\n",
      "Method2 for M = 5000 acc: 0.9497 time: 1.361889910697937\n",
      "Method3 for M = 5000 acc: 0.9574 time: 1.3495391845703124\n",
      "Method4 for M = 5000 acc: 0.9628 time: 1.4780715227127075\n",
      "Method5 for M = 7466 acc: 0.94504 time: 1.8356473398208621\n",
      "Baseline for M = 7466 acc: 0.945 time: 1.8568431615829468\n",
      "Method1 for M = 7466 acc: 0.971 time: 1.8459997653961182\n",
      "Method2 for M = 7466 acc: 0.9535 time: 1.9120234251022339\n",
      "Method3 for M = 7466 acc: 0.961 time: 1.8280502080917358\n",
      "Method4 for M = 7466 acc: 0.9662 time: 1.844463014602661\n"
     ]
    }
   ],
   "source": [
    "experiment(5000)"
   ]
  },
  {
   "cell_type": "code",
   "execution_count": 81,
   "metadata": {},
   "outputs": [
    {
     "name": "stdout",
     "output_type": "stream",
     "text": [
      "Baseline for M = 1000 acc: 0.877 time: 0.5445834159851074\n",
      "Method1 for M = 1000 acc: 0.96 time: 0.5338339328765869\n",
      "Method2 for M = 1000 acc: 0.9255 time: 0.5504796028137207\n",
      "Method3 for M = 1000 acc: 0.9438 time: 0.5426963806152344\n",
      "Method4 for M = 1000 acc: 0.952 time: 0.536484169960022\n",
      "Method5 for M = 3667 acc: 0.93014 time: 1.066206388473511\n",
      "Baseline for M = 3667 acc: 0.9299 time: 1.0822924613952636\n",
      "Method1 for M = 3667 acc: 0.9664 time: 1.0578083515167236\n",
      "Method2 for M = 3667 acc: 0.9457 time: 1.1423926830291748\n",
      "Method3 for M = 3667 acc: 0.958 time: 1.151141381263733\n",
      "Method4 for M = 3667 acc: 0.9634 time: 1.096830463409424\n"
     ]
    }
   ],
   "source": [
    "experiment(1000)"
   ]
  },
  {
   "cell_type": "code",
   "execution_count": 76,
   "metadata": {},
   "outputs": [],
   "source": [
    "# Discussion: IVF methods used in FAISS does not throw away points. Rather, it limits the number of points evaluated by forming buckets first and only check neighboring buckets."
   ]
  }
 ],
 "metadata": {
  "kernelspec": {
   "display_name": "Python 3",
   "language": "python",
   "name": "python3"
  },
  "language_info": {
   "codemirror_mode": {
    "name": "ipython",
    "version": 3
   },
   "file_extension": ".py",
   "mimetype": "text/x-python",
   "name": "python",
   "nbconvert_exporter": "python",
   "pygments_lexer": "ipython3",
   "version": "3.10.0"
  }
 },
 "nbformat": 4,
 "nbformat_minor": 2
}
